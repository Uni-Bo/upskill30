{
  "nbformat": 4,
  "nbformat_minor": 0,
  "metadata": {
    "colab": {
      "provenance": []
    },
    "kernelspec": {
      "name": "python3",
      "display_name": "Python 3"
    },
    "language_info": {
      "name": "python"
    }
  },
  "cells": [
    {
      "cell_type": "code",
      "execution_count": 20,
      "metadata": {
        "colab": {
          "base_uri": "https://localhost:8080/"
        },
        "id": "5xqMq9t0Y6pc",
        "outputId": "a1882270-857b-4215-f82e-f9125d935c9f"
      },
      "outputs": [
        {
          "output_type": "stream",
          "name": "stdout",
          "text": [
            "Collecting pytube\n",
            "  Downloading pytube-15.0.0-py3-none-any.whl (57 kB)\n",
            "\u001b[?25l     \u001b[90m━━━━━━━━━━━━━━━━━━━━━━━━━━━━━━━━━━━━━━━━\u001b[0m \u001b[32m0.0/57.6 kB\u001b[0m \u001b[31m?\u001b[0m eta \u001b[36m-:--:--\u001b[0m\r\u001b[2K     \u001b[91m━━━━━━━━━━━━━━━━━━━━━━━━━━━━\u001b[0m\u001b[90m╺\u001b[0m\u001b[90m━━━━━━━━━━━\u001b[0m \u001b[32m41.0/57.6 kB\u001b[0m \u001b[31m933.2 kB/s\u001b[0m eta \u001b[36m0:00:01\u001b[0m\r\u001b[2K     \u001b[90m━━━━━━━━━━━━━━━━━━━━━━━━━━━━━━━━━━━━━━━━\u001b[0m \u001b[32m57.6/57.6 kB\u001b[0m \u001b[31m1.0 MB/s\u001b[0m eta \u001b[36m0:00:00\u001b[0m\n",
            "\u001b[?25hInstalling collected packages: pytube\n",
            "Successfully installed pytube-15.0.0\n"
          ]
        }
      ],
      "source": [
        "!pip install pytube\n",
        "from pytube import YouTube"
      ]
    },
    {
      "cell_type": "code",
      "source": [
        "link = input(\"Enter Link of Youtube Video: \")\n",
        "yt = YouTube(link)"
      ],
      "metadata": {
        "colab": {
          "base_uri": "https://localhost:8080/"
        },
        "id": "zuufCU4qY_oW",
        "outputId": "4a5d1832-fdaf-48c5-c64d-d091e725682e"
      },
      "execution_count": 22,
      "outputs": [
        {
          "name": "stdout",
          "output_type": "stream",
          "text": [
            "Enter Link of Youtube Video: https://www.youtube.com/watch?v=LEjhY15eCx0&ab_channel=Pixar\n"
          ]
        }
      ]
    },
    {
      "cell_type": "code",
      "source": [
        "# To print title\n",
        "print(\"Title :\", yt.title)\n",
        "# To get number of views\n",
        "print(\"Views :\", yt.views)\n",
        "# To get the length of video\n",
        "print(\"Duration :\", yt.length)\n",
        "# To get description\n",
        "print(\"Description :\", yt.description)\n",
        "# To get ratings\n",
        "print(\"Ratings :\", yt.rating)"
      ],
      "metadata": {
        "colab": {
          "base_uri": "https://localhost:8080/"
        },
        "id": "tdPWTDJ4ZFrn",
        "outputId": "86d7f1e4-1400-4e89-a4ac-19e1b9cb8c5d"
      },
      "execution_count": 23,
      "outputs": [
        {
          "output_type": "stream",
          "name": "stdout",
          "text": [
            "Title : Inside Out 2 | Official Trailer\n",
            "Views : 16329930\n",
            "Duration : 145\n",
            "Description : None\n",
            "Ratings : None\n"
          ]
        }
      ]
    },
    {
      "cell_type": "code",
      "source": [
        "stream = yt.streams.get_highest_resolution()\n",
        "stream.download()\n",
        "print(\"Download completed!!\")"
      ],
      "metadata": {
        "colab": {
          "base_uri": "https://localhost:8080/"
        },
        "id": "ZU9a32tahw1P",
        "outputId": "d8f9c0a1-bf8a-4300-a94b-5c68a307ae6a"
      },
      "execution_count": 24,
      "outputs": [
        {
          "output_type": "stream",
          "name": "stdout",
          "text": [
            "Download completed!!\n"
          ]
        }
      ]
    },
    {
      "cell_type": "code",
      "source": [
        "import moviepy.editor as mp\n",
        "import os\n",
        "\n",
        "# Get the audio stream\n",
        "audio_stream = yt.streams.filter(only_audio=True).first()\n",
        "\n",
        "# Download the audio\n",
        "temp_audio_path = 'temp_audio.mp4'\n",
        "audio_stream.download(filename=temp_audio_path)\n",
        "\n",
        "# Check if the file was downloaded successfully\n",
        "if os.path.exists(temp_audio_path):\n",
        "    # Convert the downloaded audio to MP3 format\n",
        "    video_clip = mp.AudioFileClip(temp_audio_path)\n",
        "    video_clip.write_audiofile('audio.mp3')\n",
        "    video_clip.close()\n",
        "\n",
        "    # Remove the temporary audio file\n",
        "    os.remove(temp_audio_path)\n",
        "\n",
        "    print(\"Audio download completed!\")\n",
        "else:\n",
        "    print(\"Failed to download the audio. Please check the link and try again.\")"
      ],
      "metadata": {
        "colab": {
          "base_uri": "https://localhost:8080/"
        },
        "id": "T3r9dKFQhxwj",
        "outputId": "47170ee5-c2b5-4d9d-86a5-577de58cd58a"
      },
      "execution_count": 27,
      "outputs": [
        {
          "output_type": "stream",
          "name": "stdout",
          "text": [
            "MoviePy - Writing audio in audio.mp3\n"
          ]
        },
        {
          "output_type": "stream",
          "name": "stderr",
          "text": [
            "                                                                     "
          ]
        },
        {
          "output_type": "stream",
          "name": "stdout",
          "text": [
            "MoviePy - Done.\n",
            "Audio download completed!\n"
          ]
        },
        {
          "output_type": "stream",
          "name": "stderr",
          "text": [
            "\r"
          ]
        }
      ]
    },
    {
      "cell_type": "code",
      "source": [],
      "metadata": {
        "id": "VDoeLXI3iJvz"
      },
      "execution_count": null,
      "outputs": []
    }
  ]
}